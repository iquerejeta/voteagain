{
 "cells": [
  {
   "cell_type": "markdown",
   "metadata": {},
   "source": [
    "# Reproducing graphs and measurements from the VoteAgain paper\n",
    "\n",
    "This notebook reproduces the performance graphs and numbers used in the paper.\n",
    "\n",
    "## Setup\n",
    "We first input some packages"
   ]
  },
  {
   "cell_type": "code",
   "execution_count": 2,
   "metadata": {},
   "outputs": [],
   "source": [
    "import copy\n",
    "import csv\n",
    "import math\n",
    "import numpy\n",
    "import statistics\n",
    "\n",
    "import matplotlib.pyplot as plt"
   ]
  },
  {
   "cell_type": "markdown",
   "metadata": {},
   "source": [
    "And set up matplotlib."
   ]
  },
  {
   "cell_type": "code",
   "execution_count": 3,
   "metadata": {},
   "outputs": [],
   "source": [
    "plt.rc('text', usetex=True)\n",
    "plt.rc('font', size=12)\n",
    "#plt.rc('figure', figsize=(5.5,5))"
   ]
  },
  {
   "cell_type": "markdown",
   "metadata": {},
   "source": [
    "## Simple measurements\n",
    "\n",
    "We benchmarked the cost of a single P256 group operation on the same machine that was used to run the other experiments."
   ]
  },
  {
   "cell_type": "code",
   "execution_count": 4,
   "metadata": {},
   "outputs": [],
   "source": [
    "GROUP_OPERATION_TIME = 47.556254e-6"
   ]
  },
  {
   "cell_type": "markdown",
   "metadata": {},
   "source": [
    "## Utility functions\n",
    "We define two utility functions to parse the CSV files output by the various scripts, and to compute statistics on them\n",
    "\n",
    "**TODO**: documentation of `compute_stats` is not completely up to date"
   ]
  },
  {
   "cell_type": "code",
   "execution_count": 5,
   "metadata": {},
   "outputs": [],
   "source": [
    "def parse_csv(filename):\n",
    "    \"\"\"\n",
    "    WARNING - WARNING -> See below\n",
    "    The content of the file as:\n",
    "\n",
    "    Foo, Bar, Baz\n",
    "      1,   3,   5\n",
    "      2,   4,   6\n",
    "\n",
    "    becomes:\n",
    "\n",
    "    {'Foo': [1,2], 'Bar': [3,4], 'Baz': [5,6]}\n",
    "    \n",
    "    :param filename: Name of the CSV file.\n",
    "    :return: The content of the CSV file as a dict.\n",
    "    \"\"\"\n",
    "    content = {}\n",
    "\n",
    "    with open(filename, newline='') as f:\n",
    "        reader = csv.reader(f, delimiter=',')\n",
    "\n",
    "        # Retrieve the titles and set them as keys.\n",
    "        titles = reader.__next__()\n",
    "        for title in titles:\n",
    "            content[title] = []\n",
    "\n",
    "        for row in reader:\n",
    "            # Only the lines which does not contains the titles are considered.\n",
    "            if row[0] not in content.keys():\n",
    "                for index, item in enumerate(row):\n",
    "                    content[titles[index]].append(float(item))\n",
    "\n",
    "    return content"
   ]
  },
  {
   "cell_type": "code",
   "execution_count": 6,
   "metadata": {},
   "outputs": [],
   "source": [
    "def compute_stats(parsed_csv, x_vars):\n",
    "    \"\"\"\n",
    "    Compute statistics for buckets of data.\n",
    "    in:\n",
    "    {\n",
    "      'Foo': [1, 1, 2, 2],\n",
    "      'Bar': [1, 2, 3, 4]\n",
    "    }\n",
    "    \n",
    "    out:\n",
    "    {\n",
    "      'measurements': [1, 2],\n",
    "      'Bar':\n",
    "      {\n",
    "        'means': [1.5, 3.5],\n",
    "        'sems': [0.5, 0.5]\n",
    "      }\n",
    "    }\n",
    "    \"\"\"\n",
    "    # Convenience function, convert x_vars into list if it is a string\n",
    "    if isinstance(x_vars, str):\n",
    "        x_vars = [x_vars]\n",
    "    \n",
    "    # The indexes for each set of values.\n",
    "    index_same_values = {}\n",
    "    for index, value in enumerate(zip(*[parsed_csv[x_var] for x_var in x_vars])):\n",
    "        index_same_values.setdefault(value, []).append(index)\n",
    "\n",
    "    fields_to_parse = set(parsed_csv.keys()) - set(x_vars)\n",
    "    output = {\"measurements\": list(index_same_values.keys())}\n",
    "\n",
    "    for key in fields_to_parse:\n",
    "        raw_values = parsed_csv[key]\n",
    "        means = []\n",
    "        sems = []\n",
    "        for indexes in index_same_values.values():\n",
    "            bucket = [raw_values[i] for i in indexes]\n",
    "\n",
    "            mean = statistics.mean(bucket)\n",
    "            sem = statistics.stdev(bucket) / math.sqrt(len(bucket))\n",
    "            \n",
    "            means.append(mean)\n",
    "            sems.append(sem)\n",
    "\n",
    "        output[key] = {'means': means, 'sems': sems}\n",
    "    return output"
   ]
  },
  {
   "cell_type": "markdown",
   "metadata": {},
   "source": [
    "The following function creates a quick plot of the imported data."
   ]
  },
  {
   "cell_type": "code",
   "execution_count": 7,
   "metadata": {},
   "outputs": [],
   "source": [
    "def show_plot(values, titles, x_var):\n",
    "    \"\"\"\n",
    "    Display a nice plot for a set of data.\n",
    "    :param values: values to be plotted as a dict.\n",
    "    :param titles: list of titles in order.\n",
    "    :param x_val: values to use as the x.\n",
    "    \"\"\"\n",
    "    fig, ax = plt.subplots()\n",
    "\n",
    "    colors = ('blue', 'red', 'green', 'cyan', 'magenta', 'yellow')\n",
    "    col = iter(colors)\n",
    "\n",
    "    x = values[\"measurements\"]\n",
    "\n",
    "    for title in titles:\n",
    "        y = values[title]['means']\n",
    "        yerr = values[title]['sems']\n",
    "        ax.errorbar(x, y, yerr=yerr, label=title.replace('_', ' '), color=next(col), fmt='.-')\n",
    "\n",
    "    ax.set_ylabel('Time [s]')\n",
    "    ax.set_xscale('log')\n",
    "    ax.set_yscale('log')\n",
    "    ax.set_xlabel(x_var.replace('_', ' '))\n",
    "    ax.legend(loc=0)\n",
    "    # ax.xlim(1e4, 1e6)\n",
    "\n",
    "    plt.show()"
   ]
  },
  {
   "cell_type": "markdown",
   "metadata": {},
   "source": [
    "## Plotting performance of VoteAgain\n",
    "\n",
    "We first import the data from the experiments."
   ]
  },
  {
   "cell_type": "code",
   "execution_count": 8,
   "metadata": {},
   "outputs": [],
   "source": [
    "full_filter_raw = parse_csv('../data/filter/full_filter.csv')\n",
    "full_filter_ver_raw = parse_csv('../data/filter/full_filter_ver.csv')\n",
    "\n",
    "full_filter = compute_stats(full_filter_raw, 'Nr_Voters')\n",
    "full_filter_ver = compute_stats(full_filter_ver_raw, 'Nr_Voters')"
   ]
  },
  {
   "cell_type": "markdown",
   "metadata": {},
   "source": [
    "We plot a summary of the results. These figures are not included in the paper."
   ]
  },
  {
   "cell_type": "code",
   "execution_count": 9,
   "metadata": {},
   "outputs": [
    {
     "data": {
      "image/png": "[encoded data removed]",
      "text/plain": [
       "<Figure size 432x288 with 1 Axes>"
      ]
     },
     "metadata": {
      "needs_background": "light"
     },
     "output_type": "display_data"
    },
    {
     "data": {
      "image/png": "[encoded data removed]",
      "text/plain": [
       "<Figure size 432x288 with 1 Axes>"
      ]
     },
     "metadata": {
      "needs_background": "light"
     },
     "output_type": "display_data"
    }
   ],
   "source": [
    "titles = ['Shuffle', 'Decrypt' , 'Reencrypt' , 'FinalShuffle', 'FullFilter']\n",
    "show_plot(full_filter, [\"Dummies\"] + titles , 'Nr_Voters')\n",
    "show_plot(full_filter_ver, titles + ['FinalOpen'], 'Nr_Voters')"
   ]
  },
  {
   "cell_type": "markdown",
   "metadata": {},
   "source": [
    "We compute an lowerbound for Achenbach et al.'s protocol based on a count of the number of group operations and a measurement of the time it takes to perform such a group operations."
   ]
  },
  {
   "cell_type": "code",
   "execution_count": 10,
   "metadata": {},
   "outputs": [],
   "source": [
    "filter_achenbach = []\n",
    "for voters in full_filter[\"measurements\"]:\n",
    "    # voters is tuple with only a single element\n",
    "    voters = voters[0]\n",
    "    \n",
    "    square = voters * voters\n",
    "\n",
    "    filter_achenbach.append(29 * square * GROUP_OPERATION_TIME)"
   ]
  },
  {
   "cell_type": "markdown",
   "metadata": {},
   "source": [
    "We plot the Filter and VerifyFilter times for VoteAgain, together with the estimated lower-bounds for Achenbach et al.'s protocol."
   ]
  },
  {
   "cell_type": "code",
   "execution_count": 11,
   "metadata": {},
   "outputs": [
    {
     "data": {
      "image/png": "[encoded data removed]",
      "text/plain": [
       "<Figure size 288x180 with 1 Axes>"
      ]
     },
     "metadata": {
      "needs_background": "light"
     },
     "output_type": "display_data"
    }
   ],
   "source": [
    "fig, ax = plt.subplots(figsize=(4,2.5))\n",
    "\n",
    "colors = ('blue', 'red', 'green', 'cyan', 'magenta', 'yellow')\n",
    "col = iter(colors)\n",
    "\n",
    "x = [val[0] for val in full_filter[\"measurements\"]]\n",
    "filter_time = full_filter[\"FullFilter\"]['means']\n",
    "filter_time_err = full_filter[\"FullFilter\"]['sems']\n",
    "ax.errorbar(x, filter_time, yerr=filter_time_err, label=\"Filter\", color=\"blue\", fmt='o-')\n",
    "\n",
    "filter_time_ver = full_filter_ver[\"FullFilter\"]['means']\n",
    "filter_time_ver_err = full_filter_ver[\"FullFilter\"]['sems']\n",
    "ax.errorbar(x, filter_time_ver, yerr=filter_time_ver_err, label=\"VerifyFilter\", color=\"red\", fmt='^-')\n",
    "\n",
    "ax.errorbar(x, filter_achenbach, label=\"Achenbach Filter\", color=\"green\", fmt='--')\n",
    "\n",
    "ax.set_ylabel('Time (s)')\n",
    "ax.set_xscale('log')\n",
    "ax.set_yscale('log')\n",
    "ax.set_xlabel(\"\\#voters\")\n",
    "ax.legend(loc=0)\n",
    "# ax.xlim(1e4, 1e6)\n",
    "\n",
    "plt.savefig(\"../figures/measured-cost.pdf\", bbox_inches=\"tight\")"
   ]
  },
  {
   "cell_type": "markdown",
   "metadata": {},
   "source": [
    "## Estimating cost on Xeon machine\n",
    "We use the above measured running times to estimate the cost on a 8x28 core Xeon machine, assuming a scaling factor of 170."
   ]
  },
  {
   "cell_type": "code",
   "execution_count": 12,
   "metadata": {},
   "outputs": [],
   "source": [
    "scale = 170"
   ]
  },
  {
   "cell_type": "markdown",
   "metadata": {},
   "source": [
    "We first fit the measured data so we can use it in our computations."
   ]
  },
  {
   "cell_type": "code",
   "execution_count": 13,
   "metadata": {},
   "outputs": [],
   "source": [
    "fit = numpy.polyfit(x, filter_time, 1)\n",
    "filter_time_fn = numpy.poly1d(fit)\n",
    "fit = numpy.polyfit(x, filter_time_ver, 1)\n",
    "filter_time_ver_fn = numpy.poly1d(fit)"
   ]
  },
  {
   "cell_type": "markdown",
   "metadata": {},
   "source": [
    "And we plot the estimates in a graph for the paper."
   ]
  },
  {
   "cell_type": "code",
   "execution_count": 14,
   "metadata": {},
   "outputs": [
    {
     "data": {
      "image/png": "[encoded data removed]",
      "text/plain": [
       "<Figure size 288x180 with 1 Axes>"
      ]
     },
     "metadata": {
      "needs_background": "light"
     },
     "output_type": "display_data"
    }
   ],
   "source": [
    "x = numpy.logspace(5, 9, num = 100)\n",
    "\n",
    "fig, ax = plt.subplots(figsize=(4,2.5))\n",
    "\n",
    "ax.errorbar(x, filter_time_fn(x) / scale, label=\"Filter\", color=\"blue\", fmt='--')\n",
    "ax.errorbar(x, filter_time_ver_fn(x) / scale, label=\"VerifyFilter\", color=\"red\", fmt='--')\n",
    "\n",
    "ax.set_ylabel('Estimated time (s)')\n",
    "ax.set_xscale('log')\n",
    "ax.set_yscale('log')\n",
    "ax.set_xlabel(\"\\#voters\")\n",
    "ax.legend(loc=0)\n",
    "\n",
    "plt.savefig(\"../figures/estimated-cost.pdf\", bbox_inches=\"tight\")"
   ]
  },
  {
   "cell_type": "markdown",
   "metadata": {},
   "source": [
    "## Graphs for ballot distribution\n",
    "\n",
    "We start out by reading the data gathered, and parsing it"
   ]
  },
  {
   "cell_type": "code",
   "execution_count": 15,
   "metadata": {},
   "outputs": [],
   "source": [
    "full_distr_raw = parse_csv('../data/distr/full_filter.csv')\n",
    "full_distr_ver_raw = parse_csv('../data/distr/full_filter_ver.csv')\n",
    "\n",
    "stats_raw = compute_stats(full_distr_raw, [\"Nr_Voters\",\"Total_Revotes\",\"Extra_Padding\"])\n",
    "stats_ver_raw = compute_stats(full_distr_ver_raw, [\"Nr_Voters\",\"Total_Revotes\",\"Extra_Padding\"])"
   ]
  },
  {
   "cell_type": "markdown",
   "metadata": {},
   "source": [
    "We now process the data we gathered to compute processing time per ballot. The experiments do not output the total number of balots, but instead output the number of boters (who each cast one ballot), the sum of revotes (by all voters together) and the extra ballots added by the TS (extra padding). We add these to get the total number of ballots."
   ]
  },
  {
   "cell_type": "code",
   "execution_count": 16,
   "metadata": {},
   "outputs": [],
   "source": [
    "total_ballots = numpy.array([ nv + tr + ep for (nv, tr, ep) in stats_raw['measurements']])\n",
    "ballots_per_voter = total_ballots / numpy.array([nv for (nv, _, _) in stats_raw['measurements']])\n",
    "\n",
    "total_time = (numpy.array(stats_raw['FullFilter']['means']) - numpy.array(stats_raw['Dummies']['means'])) / total_ballots\n",
    "total_time_sem = numpy.array(stats_raw['FullFilter']['sems']) / total_ballots\n",
    "\n",
    "total_time_ver = numpy.array(stats_ver_raw['FullFilter']['means']) / total_ballots\n",
    "total_time_ver_sem = numpy.array(stats_raw['FullFilter']['sems']) / total_ballots"
   ]
  },
  {
   "cell_type": "markdown",
   "metadata": {},
   "source": [
    "We now plot the data to produce the figure for the paper."
   ]
  },
  {
   "cell_type": "code",
   "execution_count": 17,
   "metadata": {},
   "outputs": [
    {
     "data": {
      "image/png": "[encoded data removed]",
      "text/plain": [
       "<Figure size 288x180 with 1 Axes>"
      ]
     },
     "metadata": {
      "needs_background": "light"
     },
     "output_type": "display_data"
    }
   ],
   "source": [
    "fig, ax = plt.subplots(figsize=(4,2.5))\n",
    "\n",
    "colors = ('blue', 'red', 'green', 'cyan', 'magenta', 'yellow')\n",
    "col = iter(colors)\n",
    "\n",
    "ax.errorbar(ballots_per_voter, total_time, yerr=total_time_sem, label=\"Filter\", color=next(col), fmt='.-')\n",
    "ax.errorbar(ballots_per_voter, total_time_ver, yerr=total_time_ver_sem, label=\"VerifyFilter\", color=next(col), fmt='.-')\n",
    "\n",
    "ax.set_ylabel('Time per ballot (s)')\n",
    "ax.set_xlabel('Ballots per voter')\n",
    "ax.set_xscale('log')\n",
    "ax.set_ylim(bottom=0)\n",
    "ax.legend(loc=0)\n",
    "\n",
    "plt.savefig(\"../figures/distr.pdf\", bbox_inches=\"tight\")"
   ]
  },
  {
   "cell_type": "markdown",
   "metadata": {},
   "source": [
    "## Computing numbers used in the paper\n",
    "We estimate computation time in several countries. We did not use these numbers."
   ]
  },
  {
   "cell_type": "code",
   "execution_count": 18,
   "metadata": {},
   "outputs": [
    {
     "name": "stdout",
     "output_type": "stream",
     "text": [
      "Some data for specific countries:\n",
      "France: 1779.708644667099 s or 29.66181074445165 min or 0.49436351240752746 hours\n",
      "Russia: 3879.9323405519162 s or 64.66553900919861 min or 1.0777589834866435 hours\n",
      "Brazil: 5402.613624276894 s or 90.04356040461491 min or 1.5007260067435817 hours\n",
      "Brazil (registered): 3891.2579503883903 s or 64.85429917313984 min or 1.0809049862189972 hours\n"
     ]
    }
   ],
   "source": [
    "print(\"Some data for specific countries:\")\n",
    "countries = {\"France\": 67372000, \"Russia\": 146877088, \"Brazil\": 204519000, \"Brazil (registered)\": 147305825}\n",
    "for country, n in countries.items():\n",
    "    t = filter_time_fn(n) / scale\n",
    "    print(\"{}: {} s or {} min or {} hours\".format(country, t, t / 60, t / 3600))\n",
    "    \n"
   ]
  },
  {
   "cell_type": "markdown",
   "metadata": {},
   "source": [
    "### Computing cost for Iowa Caucasus\n",
    "Used in the introduction."
   ]
  },
  {
   "cell_type": "code",
   "execution_count": 19,
   "metadata": {},
   "outputs": [
    {
     "name": "stdout",
     "output_type": "stream",
     "text": [
      "## Iowa Caucus (176574 voters) ##\n",
      "Achenbach time (days):  497.67451757105914\n",
      "Achenbach time (months):  16.589150585701972\n",
      "Achenbach time (years):  1.3634918289618059\n",
      "\n",
      "VoteAgain time (seconds) 792.1417509585527\n",
      "VoteAgain time (minutes) 13.20236251597588\n",
      "\n",
      "\n",
      "## Small Town (100000 voters) ##\n",
      "Achenbach time (days):  159.62168587962964\n",
      "Achenbach time (months):  5.320722862654321\n",
      "Achenbach time (years):  0.43731968734145105\n",
      "\n",
      "VoteAgain time (seconds) 448.2665265317051\n",
      "VoteAgain time (minutes) 7.4711087755284185\n"
     ]
    }
   ],
   "source": [
    "def report_computation_time(number_ballots):\n",
    "    number_operations = (number_ballots ** 2) * 29\n",
    "\n",
    "    achenbach_time_seconds = GROUP_OPERATION_TIME * number_operations\n",
    "    print(\"Achenbach time (days): \", achenbach_time_seconds / 86400)\n",
    "    print(\"Achenbach time (months): \", achenbach_time_seconds / (86400 * 30))\n",
    "    print(\"Achenbach time (years): \", achenbach_time_seconds / 31536000)\n",
    "\n",
    "    voteagain_time_seconds = filter_time_fn(number_ballots)\n",
    "    print(\"\\nVoteAgain time (seconds)\", voteagain_time_seconds)\n",
    "    print(\"VoteAgain time (minutes)\", voteagain_time_seconds / 60)\n",
    "\n",
    "iowa_size = 176_574\n",
    "print(\"## Iowa Caucus ({} voters) ##\".format(iowa_size))        \n",
    "report_computation_time(iowa_size)\n",
    "\n",
    "small_town = 100_000\n",
    "print(\"\\n\\n## Small Town ({} voters) ##\".format(small_town))        \n",
    "report_computation_time(small_town)"
   ]
  },
  {
   "cell_type": "markdown",
   "metadata": {},
   "source": [
    "### Computing cost for a large City"
   ]
  },
  {
   "cell_type": "code",
   "execution_count": 20,
   "metadata": {},
   "outputs": [
    {
     "name": "stdout",
     "output_type": "stream",
     "text": [
      "## Large City (1000000 voters) ##\n",
      "Achenbach time (days):  93.89510934095861\n",
      "Achenbach time (months):  3.1298369780319537\n",
      "Achenbach time (years):  0.2572468749067359\n",
      "\n",
      "VoteAgain time (seconds) 26.411457658551107\n",
      "VoteAgain time (minutes) 0.4401909609758518\n"
     ]
    }
   ],
   "source": [
    "def report_computation_time_server(number_ballots):\n",
    "    number_operations = (number_ballots ** 2) * 29\n",
    "\n",
    "    achenbach_time_seconds = (GROUP_OPERATION_TIME * number_operations) / scale\n",
    "    print(\"Achenbach time (days): \", achenbach_time_seconds / 86400)\n",
    "    print(\"Achenbach time (months): \", achenbach_time_seconds / (86400 * 30))\n",
    "    print(\"Achenbach time (years): \", achenbach_time_seconds / 31536000)\n",
    "\n",
    "    voteagain_time_seconds = filter_time_fn(number_ballots) / scale\n",
    "    print(\"\\nVoteAgain time (seconds)\", voteagain_time_seconds)\n",
    "    print(\"VoteAgain time (minutes)\", voteagain_time_seconds / 60)\n",
    "\n",
    "big_town = 1_000_000\n",
    "print(\"## Large City ({} voters) ##\".format(big_town))        \n",
    "report_computation_time_server(big_town)"
   ]
  },
  {
   "cell_type": "markdown",
   "metadata": {},
   "source": [
    "### Time for Brazilian election\n",
    "We first compute the time to filter the Brazilian election assuming no revotes, and 147M voters."
   ]
  },
  {
   "cell_type": "code",
   "execution_count": 21,
   "metadata": {},
   "outputs": [
    {
     "name": "stdout",
     "output_type": "stream",
     "text": [
      "Brazilian elections (147M voters, no revoting): 64.7196535112601 minutes\n"
     ]
    }
   ],
   "source": [
    "number_voters = 147_000_000\n",
    "time = filter_time_fn(number_voters) / scale\n",
    "print(\"Brazilian elections (147M voters, no revoting): {} minutes\".format(time / 60))"
   ]
  },
  {
   "cell_type": "markdown",
   "metadata": {},
   "source": [
    "Next, we assume revoting, with a maximum of 50% (i.e., at most 147M/2 extra ballots) and a maximum rate of 1/10 seconds."
   ]
  },
  {
   "cell_type": "code",
   "execution_count": 22,
   "metadata": {},
   "outputs": [
    {
     "name": "stdout",
     "output_type": "stream",
     "text": [
      "Brazilian elections (147M voters, no revoting): 10.786620818113018 hours\n"
     ]
    }
   ],
   "source": [
    "number_ballots = number_voters * 10 # Using the x10 numbers from the graphs\n",
    "time = filter_time_fn(number_ballots) / scale\n",
    "print(\"Brazilian elections (147M voters, no revoting): {} hours\".format(time / 3600))"
   ]
  },
  {
   "cell_type": "markdown",
   "metadata": {},
   "source": [
    "# Mix and decrypt times\n",
    "First, we read the data gathered and parsing it."
   ]
  },
  {
   "cell_type": "code",
   "execution_count": 23,
   "metadata": {},
   "outputs": [],
   "source": [
    "mix_raw = parse_csv('../data/mix/mix_and_decrypt.csv')\n",
    "mix_stats_raw = compute_stats(mix_raw, [\"NumberCiphertexts\"])"
   ]
  },
  {
   "cell_type": "markdown",
   "metadata": {},
   "source": [
    "The experiment separately measures the time to do a verifiable proof and to do a verifiable decryption. Therefore we add the corresponding numbers. For convenience, we plot the result. We do not use this plot in the paper."
   ]
  },
  {
   "cell_type": "code",
   "execution_count": 24,
   "metadata": {},
   "outputs": [
    {
     "data": {
      "text/plain": [
       "<matplotlib.legend.Legend at 0x114bc1cc0>"
      ]
     },
     "execution_count": 24,
     "metadata": {},
     "output_type": "execute_result"
    },
    {
     "data": {
      "image/png": "[encoded data removed]",
      "text/plain": [
       "<Figure size 288x180 with 1 Axes>"
      ]
     },
     "metadata": {
      "needs_background": "light"
     },
     "output_type": "display_data"
    }
   ],
   "source": [
    "nr_ciphertexts = [v[0] for v in mix_stats_raw[\"measurements\"]]\n",
    "mix_dec_time = numpy.array(mix_stats_raw[\"ShuffleAndProofTime\"][\"means\"]) + numpy.array(mix_stats_raw[\"DecryptAndProofTime\"][\"means\"])\n",
    "\n",
    "fig, ax = plt.subplots(figsize=(4,2.5))\n",
    "\n",
    "colors = ('blue', 'red', 'green', 'cyan', 'magenta', 'yellow')\n",
    "col = iter(colors)\n",
    "\n",
    "ax.errorbar(nr_ciphertexts, mix_dec_time, label=\"MixAndDecrypt\", color=next(col), fmt='.-')\n",
    "\n",
    "ax.set_ylabel('Time (s)')\n",
    "ax.set_xlabel('Nr. of ciphertexts')\n",
    "ax.set_xscale('log')\n",
    "ax.set_yscale('log')\n",
    "ax.set_ylim(bottom=0.05)\n",
    "ax.legend(loc=0)"
   ]
  },
  {
   "cell_type": "markdown",
   "metadata": {},
   "source": [
    "We use the measurements to fit an estimate. We use this estimate to compute the numbers used in the paper."
   ]
  },
  {
   "cell_type": "code",
   "execution_count": 25,
   "metadata": {},
   "outputs": [
    {
     "name": "stdout",
     "output_type": "stream",
     "text": [
      "Time to mix+decrypt 100,000 ballots is 108.24603907055227 seconds\n",
      "Time to mix+decrypt 1M ballots on server is 6.377784513661916 seconds\n"
     ]
    }
   ],
   "source": [
    "# Fit MixAndDecrypt time\n",
    "fit = numpy.polyfit(nr_ciphertexts, mix_dec_time, 1)\n",
    "mix_dec_time_fn = numpy.poly1d(fit)\n",
    "\n",
    "print(\"Time to mix+decrypt 100,000 ballots is {} seconds\".format(mix_dec_time_fn(100_000)))\n",
    "\n",
    "time1M = mix_dec_time_fn( 1_000_000 ) / scale\n",
    "print(\"Time to mix+decrypt 1M ballots on server is {} seconds\".format(time1M))"
   ]
  }
 ],
 "metadata": {
  "kernelspec": {
   "display_name": "Python 3",
   "language": "python",
   "name": "python3"
  },
  "language_info": {
   "codemirror_mode": {
    "name": "ipython",
    "version": 3
   },
   "file_extension": ".py",
   "mimetype": "text/x-python",
   "name": "python",
   "nbconvert_exporter": "python",
   "pygments_lexer": "ipython3",
   "version": "3.7.3"
  }
 },
 "nbformat": 4,
 "nbformat_minor": 2
}
